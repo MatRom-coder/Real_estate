{
 "cells": [
  {
   "cell_type": "code",
   "execution_count": 6,
   "source": [
    "import matplotlib.pyplot as plt\r\n",
    "import pandas as pd\r\n",
    "from sklearn.linear_model import LinearRegression\r\n",
    "from sklearn.neighbors import KNeighborsRegressor\r\n",
    "from sklearn.model_selection import train_test_split\r\n",
    "import joblib"
   ],
   "outputs": [],
   "metadata": {}
  },
  {
   "cell_type": "code",
   "execution_count": 7,
   "source": [
    "df = pd.read_csv(\"../Real_estate.csv\")\r\n",
    "x = df.drop([\"No\", \"X1 transaction date\", \"X5 latitude\", \"X6 longitude\", \"Y house price of unit area\"], 1)\r\n",
    "y = df[\"Y house price of unit area\"]\r\n",
    "X_train, X_test, y_train, y_test = train_test_split(x, y, test_size = 0.20)"
   ],
   "outputs": [
    {
     "output_type": "stream",
     "name": "stderr",
     "text": [
      "<ipython-input-7-add9463f34c0>:2: FutureWarning: In a future version of pandas all arguments of DataFrame.drop except for the argument 'labels' will be keyword-only\n",
      "  x = df.drop([\"No\", \"X1 transaction date\", \"X5 latitude\", \"X6 longitude\", \"Y house price of unit area\"], 1)\n"
     ]
    }
   ],
   "metadata": {}
  },
  {
   "cell_type": "code",
   "execution_count": 8,
   "source": [
    "knn_filename = \"../trained_models/knn_model.sav\"\r\n",
    "lin_reg_filename = \"../trained_models/linear_regression_model.sav\"\r\n",
    "\r\n",
    "loaded_model = joblib.load(knn_filename)\r\n",
    "result = loaded_model.score(X_test, y_test)\r\n",
    "print(result)"
   ],
   "outputs": [
    {
     "output_type": "stream",
     "name": "stdout",
     "text": [
      "0.7003487199343037\n"
     ]
    }
   ],
   "metadata": {}
  }
 ],
 "metadata": {
  "orig_nbformat": 4,
  "language_info": {
   "name": "python",
   "version": "3.8.5",
   "mimetype": "text/x-python",
   "codemirror_mode": {
    "name": "ipython",
    "version": 3
   },
   "pygments_lexer": "ipython3",
   "nbconvert_exporter": "python",
   "file_extension": ".py"
  },
  "kernelspec": {
   "name": "python3",
   "display_name": "Python 3.8.5 64-bit ('base': conda)"
  },
  "interpreter": {
   "hash": "478e52fd14e298bfc941f7af818be6c781c71a94d3893616427ddc207375b44a"
  }
 },
 "nbformat": 4,
 "nbformat_minor": 2
}